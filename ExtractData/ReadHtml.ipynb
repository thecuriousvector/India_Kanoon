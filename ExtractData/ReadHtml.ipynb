{
 "cells": [
  {
   "cell_type": "code",
   "execution_count": 4,
   "metadata": {},
   "outputs": [
    {
     "name": "stderr",
     "output_type": "stream",
     "text": [
      "/Users/hiteshochani/anaconda3/lib/python3.6/site-packages/bs4/__init__.py:181: UserWarning: No parser was explicitly specified, so I'm using the best available HTML parser for this system (\"lxml\"). This usually isn't a problem, but if you run this code on another system, or in a different virtual environment, it may use a different parser and behave differently.\n",
      "\n",
      "The code that caused this warning is on line 193 of the file /Users/hiteshochani/anaconda3/lib/python3.6/runpy.py. To get rid of this warning, change code that looks like this:\n",
      "\n",
      " BeautifulSoup(YOUR_MARKUP})\n",
      "\n",
      "to this:\n",
      "\n",
      " BeautifulSoup(YOUR_MARKUP, \"lxml\")\n",
      "\n",
      "  markup_type=markup_type))\n"
     ]
    }
   ],
   "source": [
    "try: \n",
    "    from BeautifulSoup import BeautifulSoup\n",
    "except ImportError:\n",
    "    from bs4 import BeautifulSoup\n",
    "file = open(\"Susme Builders Pvt. Ltd vs Chief Executive Officer, Slum ... on 4 January, 2018.htm\",\"r\")\n",
    "\n",
    "html = file\n",
    "parsed_html = BeautifulSoup(html)\n",
    "#print(parsed_html)\n",
    "#print( parsed_html.find_all('div', attrs={'class':'cite_title'}))\n",
    "\n"
   ]
  },
  {
   "cell_type": "code",
   "execution_count": 9,
   "metadata": {},
   "outputs": [
    {
     "name": "stdout",
     "output_type": "stream",
     "text": [
      "[('/doc/500307/', 'Article 142 in The Constitution Of India   1949'), ('/doc/862520/', 'Section 13 in The Arbitration Act,   1940'), ('/doc/772284/', 'Section 13(2) in The Companies Act,   1956'), ('/doc/427855/', 'Article 136 in The Constitution Of India   1949'), ('/doc/1353758/', 'The Companies Act,   1956')]\n"
     ]
    }
   ],
   "source": [
    "#Returns a list of tuples of the form ('/doc/500307/', 'Article 142 in The Constitution Of India   1949')\n",
    "def all_cites():\n",
    "    citationList = []\n",
    "    all_citations =  parsed_html.find_all('div', attrs={'class':'cite_title'})\n",
    "    for eachCite in all_citations:\n",
    "        citationList.append((eachCite.find('a').get('href'),eachCite.find('a').get_text()))\n",
    "    return citationList\n",
    "print(all_cites())"
   ]
  },
  {
   "cell_type": "code",
   "execution_count": 12,
   "metadata": {},
   "outputs": [
    {
     "name": "stdout",
     "output_type": "stream",
     "text": [
      "57506186\n"
     ]
    }
   ],
   "source": [
    "#Returns document id as per indiankanoon.org e.g. 57506186\n",
    "def getDocID():\n",
    "    return parsed_html.find('div', attrs={'class':'doc_cite_head'}).find('a').get('href').split(\":\",1)[1] \n",
    "print(getDocID())"
   ]
  },
  {
   "cell_type": "code",
   "execution_count": 16,
   "metadata": {},
   "outputs": [
    {
     "name": "stdout",
     "output_type": "stream",
     "text": [
      "D Gupta\n"
     ]
    }
   ],
   "source": [
    "def get_doc_author():\n",
    "    return parsed_html.find('div', attrs={'class':'doc_author'}).get_text().split(\": \",1)[1]\n",
    "print(get_doc_author())"
   ]
  },
  {
   "cell_type": "code",
   "execution_count": null,
   "metadata": {},
   "outputs": [],
   "source": []
  },
  {
   "cell_type": "code",
   "execution_count": null,
   "metadata": {},
   "outputs": [],
   "source": [
    "file.close()"
   ]
  }
 ],
 "metadata": {
  "kernelspec": {
   "display_name": "Python 3",
   "language": "python",
   "name": "python3"
  },
  "language_info": {
   "codemirror_mode": {
    "name": "ipython",
    "version": 3
   },
   "file_extension": ".py",
   "mimetype": "text/x-python",
   "name": "python",
   "nbconvert_exporter": "python",
   "pygments_lexer": "ipython3",
   "version": "3.6.4"
  }
 },
 "nbformat": 4,
 "nbformat_minor": 2
}
